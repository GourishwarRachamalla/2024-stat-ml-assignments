{
  "nbformat": 4,
  "nbformat_minor": 0,
  "metadata": {
    "colab": {
      "provenance": [],
      "authorship_tag": "ABX9TyPS04OYNwAAA86Jc/vaImdO",
      "include_colab_link": true
    },
    "kernelspec": {
      "name": "python3",
      "display_name": "Python 3"
    },
    "language_info": {
      "name": "python"
    }
  },
  "cells": [
    {
      "cell_type": "markdown",
      "metadata": {
        "id": "view-in-github",
        "colab_type": "text"
      },
      "source": [
        "<a href=\"https://colab.research.google.com/github/GourishwarRachamalla/2024-stat-ml-assignments/blob/main/2303A52045_assignment_1%2CSTL.ipynb\" target=\"_parent\"><img src=\"https://colab.research.google.com/assets/colab-badge.svg\" alt=\"Open In Colab\"/></a>"
      ]
    },
    {
      "cell_type": "markdown",
      "source": [
        "Question 1:\n",
        "\n",
        "Given the following dataset: X={2.3,2.5,3.6,2.8,3.1,2.9,3.2,2.7,2.8,3.0}. Compute the density of the data using a histogram with 5 bins."
      ],
      "metadata": {
        "id": "pwiFm8toNPAV"
      }
    },
    {
      "cell_type": "code",
      "source": [
        "X=[1.3,1.5,2.6,2.6,3.2,3.9,4.2,3.7,3.10,3.0,11,6.7,1.9]"
      ],
      "metadata": {
        "id": "mTKntzd6NP1l"
      },
      "execution_count": null,
      "outputs": []
    },
    {
      "cell_type": "code",
      "source": [
        "import matplotlib.pyplot as plt\n",
        "import numpy as np\n",
        "l1={2.3,2.5,3.6,2.8,3.1,2.9,3.2,2.7,2.8,3.0}\n",
        "plt.hist(l1,bins=5, density = True, alpha = 1, color = 'green', edgecolor = 'white')\n",
        "plt.grid(True)\n",
        "plt.xlabel('Value')\n",
        "plt.ylabel('Density')\n",
        "plt.title('Histogram')\n",
        "plt.show()"
      ],
      "metadata": {
        "colab": {
          "base_uri": "https://localhost:8080/",
          "height": 472
        },
        "id": "PpnWqTeONmCU",
        "outputId": "7caa6d1e-05b2-4d17-8c09-febd9182566b"
      },
      "execution_count": null,
      "outputs": [
        {
          "output_type": "display_data",
          "data": {
            "text/plain": [
              "<Figure size 640x480 with 1 Axes>"
            ],
            "image/png": "[encoded data removed]"
          },
          "metadata": {}
        }
      ]
    },
    {
      "cell_type": "markdown",
      "source": [
        "question 2\n",
        "Find Mean, Median, Mode , Variance , Standard deviation , Range , Interquartile"
      ],
      "metadata": {
        "id": "pswgAzL1Nx6O"
      }
    },
    {
      "cell_type": "code",
      "source": [
        "import numpy as np\n",
        "from scipy import stats\n",
        "x= [4,5,8,2,4,2,5]\n",
        "y= [5,6,3,8,3,7,8]\n",
        "\n",
        "#For Dependant Variables\n",
        "mean = np.mean(x)\n",
        "median = np.median(x)\n",
        "mode = stats.mode(x)\n",
        "variance = np.var(x)\n",
        "std = np.std(x)\n",
        "range = np.max(x) - np.min(x)\n",
        "IQR = stats.iqr(x)\n",
        "skewness = stats.skew(x)\n",
        "kurtosis = stats.kurtosis(x)\n",
        "\n",
        "#print results\n",
        "print(\"Mean of Dep Var: \", mean)\n",
        "print(\"Median of Dep Var: \", median)\n",
        "print(\"Mode of Dep Var: \", mode)\n",
        "print(\"Variance of Dep Var: \", variance)\n",
        "print(\"Standard Deviation of Dep Var: \", std)\n",
        "print(\"Range of Dep Var: \", range)\n",
        "print(\"IQR of Dep Var: \", IQR)\n",
        "print(\"Skewness of Dep Var: \", skewness)\n",
        "print(\"Kurtosis of Dep Var: \", kurtosis)\n",
        "print()\n",
        "\n",
        "#For Independable Variables\n",
        "mean = np.mean(y)\n",
        "median = np.median(y)\n",
        "mode = stats.mode(y)\n",
        "variance = np.var(y)\n",
        "std = np.std(y)\n",
        "range = np.max(y) - np.min(y)\n",
        "IQR = stats.iqr(y)\n",
        "skewness = stats.skew(y)\n",
        "kurtosis = stats.kurtosis(y)\n",
        "\n",
        "# print results\n",
        "print(\"Mean of Indep Var: \", mean)\n",
        "print(\"Median of Indep Var: \", median)\n",
        "print(\"Mode of Indep Var: \", mode)\n",
        "print(\"Variance of Indep Var: \", variance)\n",
        "print(\"Standard Deviation of Indep Var: \", std)\n",
        "print(\"Range of Indep Var: \", range)\n",
        "print(\"IQR of Indep Var: \", IQR)\n",
        "print(\"Skewness of Indep Var: \", skewness)\n",
        "print(\"Kurtosis of Indep Var: \", kurtosis)"
      ],
      "metadata": {
        "colab": {
          "base_uri": "https://localhost:8080/"
        },
        "id": "MbgKgyZNNvv-",
        "outputId": "ee233461-412b-410f-defb-38a156e35877"
      },
      "execution_count": null,
      "outputs": [
        {
          "output_type": "stream",
          "name": "stdout",
          "text": [
            "Mean of Dep Var:  4.285714285714286\n",
            "Median of Dep Var:  4.0\n",
            "Mode of Dep Var:  ModeResult(mode=2, count=2)\n",
            "Variance of Dep Var:  3.6326530612244894\n",
            "Standard Deviation of Dep Var:  1.9059520091609048\n",
            "Range of Dep Var:  6\n",
            "IQR of Dep Var:  2.0\n",
            "Skewness of Dep Var:  0.5785710902698393\n",
            "Kurtosis of Dep Var:  -0.34282287589950755\n",
            "\n",
            "Mean of Indep Var:  5.714285714285714\n",
            "Median of Indep Var:  6.0\n",
            "Mode of Indep Var:  ModeResult(mode=3, count=2)\n",
            "Variance of Indep Var:  3.918367346938776\n",
            "Standard Deviation of Indep Var:  1.979486637221574\n",
            "Range of Indep Var:  5\n",
            "IQR of Indep Var:  3.5\n",
            "Skewness of Indep Var:  -0.26386711521557127\n",
            "Kurtosis of Indep Var:  -1.4541015625000002\n"
          ]
        }
      ]
    },
    {
      "cell_type": "markdown",
      "source": [
        "Question 3:\n",
        "\n",
        "From the above data Find Mean, Median, Mode, Variance, Standard deviation, Range , Interquartile Range (IQR),  Skewness ,Kurtosis of each feature."
      ],
      "metadata": {
        "id": "MoAwzbdDOGdK"
      }
    },
    {
      "cell_type": "markdown",
      "source": [
        "Mean"
      ],
      "metadata": {
        "id": "xCTgqhLqOKMN"
      }
    },
    {
      "cell_type": "code",
      "source": [
        "import numpy as np\n",
        "from scipy import stats\n",
        "import pandas as pd\n",
        "\n",
        "data = pd.read_csv('/content/sample_data/california_housing_test.csv')\n",
        "data.head()\n",
        "lg_mean = np.mean(data['longitude'])\n",
        "print(\"Longitude Mean:\", lg_mean)\n",
        "lat_mean = np.mean(data['latitude'])\n",
        "print(\"Latitude Mean:\", lat_mean)\n",
        "housing_median_age_mean = np.mean(data['housing_median_age'])\n",
        "print(\"Housing Median Age Mean:\", housing_median_age_mean)\n",
        "total_rooms_mean = np.mean(data['total_rooms'])\n",
        "print(\"Total Rooms Mean:\", total_rooms_mean)\n",
        "total_bedrooms_mean = np.mean(data['total_bedrooms'])\n",
        "print(\"Total Bedrooms Mean:\", total_bedrooms_mean)\n",
        "population_mean = np.mean(data['population'])\n",
        "print(\"Population Mean:\", population_mean)\n",
        "households_mean = np.mean(data['households'])\n",
        "print(\"Households Mean:\", households_mean)\n",
        "median_income_mean = np.mean(data['median_income'])\n",
        "print(\"Median Income Mean:\", median_income_mean)\n",
        "median_house_value_mean = np.mean(data['median_house_value'])\n",
        "print(\"Median House Value Mean:\", median_house_value_mean)"
      ],
      "metadata": {
        "colab": {
          "base_uri": "https://localhost:8080/"
        },
        "id": "bTmfUo2HOEZr",
        "outputId": "f0696906-4844-4c3f-c55b-ccca19ccc866"
      },
      "execution_count": null,
      "outputs": [
        {
          "output_type": "stream",
          "name": "stdout",
          "text": [
            "Longitude Mean: -119.58919999999999\n",
            "Latitude Mean: 35.635389999999994\n",
            "Housing Median Age Mean: 28.845333333333333\n",
            "Total Rooms Mean: 2599.578666666667\n",
            "Total Bedrooms Mean: 529.9506666666666\n",
            "Population Mean: 1402.7986666666666\n",
            "Households Mean: 489.912\n",
            "Median Income Mean: 3.8072717999999997\n",
            "Median House Value Mean: 205846.275\n"
          ]
        }
      ]
    },
    {
      "cell_type": "markdown",
      "source": [
        "median"
      ],
      "metadata": {
        "id": "kKUUqGPWOMwQ"
      }
    },
    {
      "cell_type": "code",
      "source": [
        "lg_median = np.median(data['longitude'])\n",
        "print(\"Longitude Median:\", lg_median)\n",
        "lat_median = np.median(data['latitude'])\n",
        "print(\"Latitude Median:\", lat_median)\n",
        "housing_median_age_median = np.median(data['housing_median_age'])\n",
        "print(\"Housing Median Age Median:\", housing_median_age_median)\n",
        "total_rooms_median = np.median(data['total_rooms'])\n",
        "print(\"Total Rooms Median:\", total_rooms_median)\n",
        "total_bedrooms_median = np.median(data['total_bedrooms'])\n",
        "print(\"Total Bedrooms Median:\", total_bedrooms_median)\n",
        "population_median = np.median(data['population'])\n",
        "print(\"Population Median:\", population_median)\n",
        "households_median = np.median(data['households'])\n",
        "print(\"Households Median:\", households_median)\n",
        "median_income_median = np.median(data['median_income'])\n",
        "print(\"Median Income Median:\", median_income_median)\n",
        "median_house_value_median = np.median(data['median_house_value'])\n",
        "print(\"Median House Value Median:\", median_house_value_median)"
      ],
      "metadata": {
        "colab": {
          "base_uri": "https://localhost:8080/"
        },
        "id": "9KHpvS60ON42",
        "outputId": "2d7facf6-9954-4e78-a319-be2580f1a994"
      },
      "execution_count": null,
      "outputs": [
        {
          "output_type": "stream",
          "name": "stdout",
          "text": [
            "Longitude Median: -118.485\n",
            "Latitude Median: 34.27\n",
            "Housing Median Age Median: 29.0\n",
            "Total Rooms Median: 2106.0\n",
            "Total Bedrooms Median: 437.0\n",
            "Population Median: 1155.0\n",
            "Households Median: 409.5\n",
            "Median Income Median: 3.4871499999999997\n",
            "Median House Value Median: 177650.0\n"
          ]
        }
      ]
    },
    {
      "cell_type": "markdown",
      "source": [
        "MODE"
      ],
      "metadata": {
        "id": "M2Ea34I0OS25"
      }
    },
    {
      "cell_type": "code",
      "source": [
        "lg_mode = stats.mode(data['longitude'])\n",
        "print(\"Longitude Mode:\", lg_mode)\n",
        "lat_mode = stats.mode(data['latitude'])\n",
        "print(\"Latitude Mode:\", lat_mode)\n",
        "housing_median_age_mode = stats.mode(data['housing_median_age'])\n",
        "print(\"Housing Median Age Mode:\", housing_median_age_mode)\n",
        "total_rooms_mode = stats.mode(data['total_rooms'])\n",
        "print(\"Total Rooms Mode:\", total_rooms_mode)\n",
        "total_bedrooms_mode = stats.mode(data['total_bedrooms'])\n",
        "print(\"Total Bedrooms Mode:\", total_bedrooms_mode)\n",
        "population_mode = stats.mode(data['population'])\n",
        "print(\"Population Mode:\", population_mode)\n",
        "households_mode = stats.mode(data['households'])\n",
        "print(\"Households Mode:\", households_mode)\n",
        "median_income_mode = stats.mode(data['median_income'])\n",
        "print(\"Median Income Mode:\", median_income_mode)\n",
        "median_house_value_mode = stats.mode(data['median_house_value'])\n",
        "print(\"Median House Value Mode:\", median_house_value_mode)"
      ],
      "metadata": {
        "colab": {
          "base_uri": "https://localhost:8080/"
        },
        "id": "P4QKfWIbOULa",
        "outputId": "a0c2655c-373d-4269-a596-e5b450791143"
      },
      "execution_count": null,
      "outputs": [
        {
          "output_type": "stream",
          "name": "stdout",
          "text": [
            "Longitude Mode: ModeResult(mode=-118.26, count=26)\n",
            "Latitude Mode: ModeResult(mode=34.02, count=35)\n",
            "Housing Median Age Mode: ModeResult(mode=52.0, count=173)\n",
            "Total Rooms Mode: ModeResult(mode=907.0, count=5)\n",
            "Total Bedrooms Mode: ModeResult(mode=314.0, count=15)\n",
            "Population Mode: ModeResult(mode=870.0, count=7)\n",
            "Households Mode: ModeResult(mode=273.0, count=12)\n",
            "Median Income Mode: ModeResult(mode=15.0001, count=9)\n",
            "Median House Value Mode: ModeResult(mode=500001.0, count=125)\n"
          ]
        }
      ]
    },
    {
      "cell_type": "markdown",
      "source": [
        " Variance"
      ],
      "metadata": {
        "id": "OkqzCDMhOYPZ"
      }
    },
    {
      "cell_type": "code",
      "source": [
        "lg_variance = np.var(data['longitude'])\n",
        "print(\"Longitude Variance:\", lg_variance)\n",
        "lat_variance = np.var(data['latitude'])\n",
        "print(\"Latitude Variance:\", lat_variance)\n",
        "housing_median_age_variance = np.var(data['housing_median_age'])\n",
        "print(\"Housing Median Age Variance:\", housing_median_age_variance)\n",
        "total_rooms_variance = np.var(data['total_rooms'])\n",
        "print(\"Total Rooms Variance:\", total_rooms_variance)\n",
        "total_bedrooms_variance = np.var(data['total_bedrooms'])\n",
        "print(\"Total Bedrooms Variance:\", total_bedrooms_variance)\n",
        "population_variance = np.var(data['population'])\n",
        "print(\"Population Variance:\", population_variance)\n",
        "households_variance = np.var(data['households'])\n",
        "print(\"Households Variance:\", households_variance)\n",
        "median_income_variance = np.var(data['median_income'])\n",
        "print(\"Median Income Variance:\", median_income_variance)\n",
        "median_house_value_variance = np.var(data['median_house_value'])\n",
        "print(\"Median House Value Variance:\", median_house_value_variance)"
      ],
      "metadata": {
        "colab": {
          "base_uri": "https://localhost:8080/"
        },
        "id": "eKmcwR0xOcht",
        "outputId": "bd09c949-7a6e-4610-ad13-24d6fe65ce62"
      },
      "execution_count": null,
      "outputs": [
        {
          "output_type": "stream",
          "name": "stdout",
          "text": [
            "Longitude Variance: 3.9784442266666673\n",
            "Latitude Variance: 4.5339804479\n",
            "Housing Median Age Variance: 157.58541155555554\n",
            "Total Rooms Variance: 4645033.750478223\n",
            "Total Bedrooms Variance: 172710.9642328889\n",
            "Population Variance: 1061664.8941315555\n",
            "Households Variance: 133489.24558933332\n",
            "Median Income Variance: 3.4380673509780935\n",
            "Median House Value Variance: 12791798338.666039\n"
          ]
        }
      ]
    },
    {
      "cell_type": "markdown",
      "source": [
        "STANDARD DEVIATION"
      ],
      "metadata": {
        "id": "yl80nMPaOvZB"
      }
    },
    {
      "cell_type": "code",
      "source": [
        "lg_std = np.std(data['longitude'])\n",
        "print(\"Longitude Standard Deviation:\", lg_std)\n",
        "lat_std = np.std(data['latitude'])\n",
        "print(\"Latitude Standard Deviation:\", lat_std)\n",
        "housing_median_age_std = np.std(data['housing_median_age'])\n",
        "print(\"Housing Median Age Standard Deviation:\", housing_median_age_std)\n",
        "total_rooms_std = np.std(data['total_rooms'])\n",
        "print(\"Total Rooms Standard Deviation:\", total_rooms_std)\n",
        "total_bedrooms_std = np.std(data['total_bedrooms'])\n",
        "print(\"Total Bedrooms Standard Deviation:\", total_bedrooms_std)\n",
        "population_std = np.std(data['population'])\n",
        "print(\"Population Standard Deviation:\", population_std)\n",
        "households_std = np.std(data['households'])\n",
        "print(\"Households Standard Deviation:\", households_std)\n",
        "median_income_std = np.std(data['median_income'])\n",
        "print(\"Median Income Standard Deviation:\", median_income_std)\n",
        "median_house_value_std = np.std(data['median_house_value'])\n",
        "print(\"Median House Value Standard Deviation:\", median_house_value_std)"
      ],
      "metadata": {
        "colab": {
          "base_uri": "https://localhost:8080/"
        },
        "id": "867PeQrkOsG8",
        "outputId": "33c4a13b-87dc-4d3e-bb93-3b2e86ef32c7"
      },
      "execution_count": null,
      "outputs": [
        {
          "output_type": "stream",
          "name": "stdout",
          "text": [
            "Longitude Standard Deviation: 1.9946037768606244\n",
            "Latitude Standard Deviation: 2.1293145488396026\n",
            "Housing Median Age Standard Deviation: 12.553302814620363\n",
            "Total Rooms Standard Deviation: 2155.2340361265233\n",
            "Total Bedrooms Standard Deviation: 415.58508663436044\n",
            "Population Standard Deviation: 1030.3712409280238\n",
            "Households Standard Deviation: 365.3618009443972\n",
            "Median Income Standard Deviation: 1.854202618641796\n",
            "Median House Value Standard Deviation: 113100.83261703266\n"
          ]
        }
      ]
    },
    {
      "cell_type": "markdown",
      "source": [
        "RANGE"
      ],
      "metadata": {
        "id": "7nhzmkE8Oy16"
      }
    },
    {
      "cell_type": "code",
      "source": [
        "lg_range = np.max(data['longitude']) - np.min(data['longitude'])\n",
        "print(\"Longitude Range:\", lg_range)\n",
        "lat_range = np.max(data['latitude']) - np.min(data['latitude'])\n",
        "print(\"Latitude Range:\", lat_range)\n",
        "housing_median_age_range = np.max(data['housing_median_age']) - np.min(data['housing_median_age'])\n",
        "print(\"Housing Median Age Range:\", housing_median_age_range)\n",
        "total_rooms_range = np.max(data['total_rooms']) - np.min(data['total_rooms'])\n",
        "print(\"Total Rooms Range:\", total_rooms_range)\n",
        "total_bedrooms_range = np.max(data['total_bedrooms']) - np.min(data['total_bedrooms'])\n",
        "print(\"Total Bedrooms Range:\", total_bedrooms_range)\n",
        "population_range = np.max(data['population']) - np.min(data['population'])\n",
        "print(\"Population Range:\", population_range)\n",
        "households_range = np.max(data['households']) - np.min(data['households'])\n",
        "print(\"Households Range:\", households_range)\n",
        "median_income_range = np.max(data['median_income']) - np.min(data['median_income'])\n",
        "print(\"Median Income Range:\", median_income_range)\n",
        "median_house_value_range = np.max(data['median_house_value']) - np.min(data['median_house_value'])\n",
        "print(\"Median House Value Range:\", median_house_value_range)"
      ],
      "metadata": {
        "colab": {
          "base_uri": "https://localhost:8080/"
        },
        "id": "u6z36am-O2m7",
        "outputId": "604e0aec-6e29-4d62-ce73-9d544210efe5"
      },
      "execution_count": null,
      "outputs": [
        {
          "output_type": "stream",
          "name": "stdout",
          "text": [
            "Longitude Range: 9.690000000000012\n",
            "Latitude Range: 9.36\n",
            "Housing Median Age Range: 51.0\n",
            "Total Rooms Range: 30444.0\n",
            "Total Bedrooms Range: 5417.0\n",
            "Population Range: 11930.0\n",
            "Households Range: 4928.0\n",
            "Median Income Range: 14.5002\n",
            "Median House Value Range: 477501.0\n"
          ]
        }
      ]
    },
    {
      "cell_type": "markdown",
      "source": [
        "IQR"
      ],
      "metadata": {
        "id": "usnFj8aSPDxJ"
      }
    },
    {
      "cell_type": "code",
      "source": [
        "lg_IQR = stats.iqr(data['longitude'])\n",
        "print(\"Longitude IQR:\", lg_IQR)\n",
        "lat_IQR = stats.iqr(data['latitude'])\n",
        "print(\"Latitude IQR:\", lat_IQR)\n",
        "housing_median_age_IQR = stats.iqr(data['housing_median_age'])\n",
        "print(\"Housing Median Age IQR:\", housing_median_age_IQR)\n",
        "total_rooms_IQR = stats.iqr(data['total_rooms'])\n",
        "print(\"Total Rooms IQR:\", total_rooms_IQR)\n",
        "total_bedrooms_IQR = stats.iqr(data['total_bedrooms'])\n",
        "print(\"Total Bedrooms IQR:\", total_bedrooms_IQR)\n",
        "population_IQR = stats.iqr(data['population'])\n",
        "print(\"Population IQR:\", population_IQR)\n",
        "households_IQR = stats.iqr(data['households'])\n",
        "print(\"Households IQR:\", households_IQR)\n",
        "median_income_IQR = stats.iqr(data['median_income'])\n",
        "print(\"Median Income IQR:\", median_income_IQR)\n",
        "median_house_value_IQR = stats.iqr(data['median_house_value'])\n",
        "print(\"Median House Value IQR:\", median_house_value_IQR)"
      ],
      "metadata": {
        "colab": {
          "base_uri": "https://localhost:8080/"
        },
        "id": "czGyAtbzPATd",
        "outputId": "fc505481-5c1b-402f-9fb2-da2a62108ea3"
      },
      "execution_count": null,
      "outputs": [
        {
          "output_type": "stream",
          "name": "stdout",
          "text": [
            "Longitude IQR: 3.7900000000000063\n",
            "Latitude IQR: 3.759999999999998\n",
            "Housing Median Age IQR: 19.0\n",
            "Total Rooms IQR: 1728.0\n",
            "Total Bedrooms IQR: 345.0\n",
            "Population IQR: 962.75\n",
            "Households IQR: 324.25\n",
            "Median Income IQR: 2.112475\n",
            "Median House Value IQR: 142775.0\n"
          ]
        }
      ]
    },
    {
      "cell_type": "markdown",
      "source": [
        "SKEWNESS"
      ],
      "metadata": {
        "id": "rD4bJ6vdPFTT"
      }
    },
    {
      "cell_type": "code",
      "source": [
        "lg_skew = stats.skew(data['longitude'])\n",
        "print(\"Longitude Skewness:\", lg_skew)\n",
        "lat_skew = stats.skew(data['latitude'])\n",
        "print(\"Latitude Skewness:\", lat_skew)\n",
        "housing_median_age_skew = stats.skew(data['housing_median_age'])\n",
        "print(\"Housing Median Age Skewness:\", housing_median_age_skew)\n",
        "total_rooms_skew = stats.skew(data['total_rooms'])\n",
        "print(\"Total Rooms Skewness:\", total_rooms_skew)\n",
        "total_bedrooms_skew = stats.skew(data['total_bedrooms'])\n",
        "print(\"Total Bedrooms Skewness:\", total_bedrooms_skew)\n",
        "population_skew = stats.skew(data['population'])\n",
        "print(\"Population Skewness:\", population_skew)\n",
        "households_skew = stats.skew(data['households'])\n",
        "print(\"Households Skewness:\", households_skew)\n",
        "median_income_skew = stats.skew(data['median_income'])\n",
        "print(\"Median Income Skewness:\", median_income_skew)\n",
        "median_house_value_skew = stats.skew(data['median_house_value'])\n",
        "print(\"Median House Value Skewness:\", median_house_value_skew)"
      ],
      "metadata": {
        "colab": {
          "base_uri": "https://localhost:8080/"
        },
        "id": "e8iWGkx-PJwO",
        "outputId": "91dc41e5-e7e6-4722-deca-0ce74b8f835f"
      },
      "execution_count": null,
      "outputs": [
        {
          "output_type": "stream",
          "name": "stdout",
          "text": [
            "Longitude Skewness: -0.29770868312210047\n",
            "Latitude Skewness: 0.45958599688301055\n",
            "Housing Median Age Skewness: 0.01850386331347812\n",
            "Total Rooms Skewness: 4.165553250335494\n",
            "Total Bedrooms Skewness: 3.861461224097534\n",
            "Population Skewness: 2.9481956505974214\n",
            "Households Skewness: 3.5579732876776733\n",
            "Median Income Skewness: 1.697662360984838\n",
            "Median House Value Skewness: 0.9890670635093471\n"
          ]
        }
      ]
    },
    {
      "cell_type": "markdown",
      "source": [
        "KURTOSIS"
      ],
      "metadata": {
        "id": "GRxubUyzPMHR"
      }
    },
    {
      "cell_type": "code",
      "source": [
        "lg_kurtosis = stats.kurtosis(data['longitude'])\n",
        "print(\"Longitude Kurtosis:\", lg_kurtosis)\n",
        "lat_kurtosis = stats.kurtosis(data['latitude'])\n",
        "print(\"Latitude Kurtosis:\", lat_kurtosis)\n",
        "housing_median_age_kurtosis = stats.kurtosis(data['housing_median_age'])\n",
        "print(\"Housing Median Age Kurtosis:\", housing_median_age_kurtosis)\n",
        "total_rooms_kurtosis = stats.kurtosis(data['total_rooms'])\n",
        "print(\"Total Rooms Kurtosis:\", total_rooms_kurtosis)\n",
        "total_bedrooms_kurtosis = stats.kurtosis(data['total_bedrooms'])\n",
        "print(\"Total Bedrooms Kurtosis:\", total_bedrooms_kurtosis)\n",
        "population_kurtosis = stats.kurtosis(data['population'])\n",
        "print(\"Population Kurtosis:\", population_kurtosis)\n",
        "households_kurtosis = stats.kurtosis(data['households'])\n",
        "print(\"Households Kurtosis:\", households_kurtosis)\n",
        "median_income_kurtosis = stats.kurtosis(data['median_income'])\n",
        "print(\"Median Income Kurtosis:\", median_income_kurtosis)\n",
        "median_house_value_kurtosis = stats.kurtosis(data['median_house_value'])\n",
        "print(\"Median House Value Kurtosis:\", median_house_value_kurtosis)"
      ],
      "metadata": {
        "colab": {
          "base_uri": "https://localhost:8080/"
        },
        "id": "T2my8rpdPO0j",
        "outputId": "223dc21c-3ddc-4321-cc2f-f1af07ff0d4e"
      },
      "execution_count": null,
      "outputs": [
        {
          "output_type": "stream",
          "name": "stdout",
          "text": [
            "Longitude Kurtosis: -1.3625007669256197\n",
            "Latitude Kurtosis: -1.1244987241902247\n",
            "Housing Median Age Kurtosis: -0.8044440474433037\n",
            "Total Rooms Kurtosis: 32.044466669077906\n",
            "Total Bedrooms Kurtosis: 28.48753189248459\n",
            "Population Kurtosis: 16.41387618265221\n",
            "Households Kurtosis: 26.18366680809118\n",
            "Median Income Kurtosis: 5.614812216724314\n",
            "Median House Value Kurtosis: 0.3927409720063544\n"
          ]
        }
      ]
    }
  ]
}