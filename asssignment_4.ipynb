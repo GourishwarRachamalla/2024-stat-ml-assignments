{
  "nbformat": 4,
  "nbformat_minor": 0,
  "metadata": {
    "colab": {
      "provenance": [],
      "authorship_tag": "ABX9TyP6p89qt4dDISxgZCxmKRZy",
      "include_colab_link": true
    },
    "kernelspec": {
      "name": "python3",
      "display_name": "Python 3"
    },
    "language_info": {
      "name": "python"
    }
  },
  "cells": [
    {
      "cell_type": "markdown",
      "metadata": {
        "id": "view-in-github",
        "colab_type": "text"
      },
      "source": [
        "<a href=\"https://colab.research.google.com/github/GourishwarRachamalla/2024-stat-ml-assignments/blob/main/asssignment_4.ipynb\" target=\"_parent\"><img src=\"https://colab.research.google.com/assets/colab-badge.svg\" alt=\"Open In Colab\"/></a>"
      ]
    },
    {
      "cell_type": "code",
      "source": [
        "import pandas as pd\n",
        "file_path=\"/content/train.csv\"\n",
        "df=pd.read_csv(file_path)\n",
        "print(df)"
      ],
      "metadata": {
        "colab": {
          "base_uri": "https://localhost:8080/"
        },
        "id": "Wi57BXG-YG9Z",
        "outputId": "41dfb370-d0f4-4f82-850c-c5619c7d3b60"
      },
      "execution_count": null,
      "outputs": [
        {
          "output_type": "stream",
          "name": "stdout",
          "text": [
            "      battery_power  blue  clock_speed  dual_sim  fc  four_g  int_memory  \\\n",
            "0               842     0          2.2         0   1       0           7   \n",
            "1              1021     1          0.5         1   0       1          53   \n",
            "2               563     1          0.5         1   2       1          41   \n",
            "3               615     1          2.5         0   0       0          10   \n",
            "4              1821     1          1.2         0  13       1          44   \n",
            "...             ...   ...          ...       ...  ..     ...         ...   \n",
            "1995            794     1          0.5         1   0       1           2   \n",
            "1996           1965     1          2.6         1   0       0          39   \n",
            "1997           1911     0          0.9         1   1       1          36   \n",
            "1998           1512     0          0.9         0   4       1          46   \n",
            "1999            510     1          2.0         1   5       1          45   \n",
            "\n",
            "      m_dep  mobile_wt  n_cores  ...  px_height  px_width   ram  sc_h  sc_w  \\\n",
            "0       0.6        188        2  ...         20       756  2549     9     7   \n",
            "1       0.7        136        3  ...        905      1988  2631    17     3   \n",
            "2       0.9        145        5  ...       1263      1716  2603    11     2   \n",
            "3       0.8        131        6  ...       1216      1786  2769    16     8   \n",
            "4       0.6        141        2  ...       1208      1212  1411     8     2   \n",
            "...     ...        ...      ...  ...        ...       ...   ...   ...   ...   \n",
            "1995    0.8        106        6  ...       1222      1890   668    13     4   \n",
            "1996    0.2        187        4  ...        915      1965  2032    11    10   \n",
            "1997    0.7        108        8  ...        868      1632  3057     9     1   \n",
            "1998    0.1        145        5  ...        336       670   869    18    10   \n",
            "1999    0.9        168        6  ...        483       754  3919    19     4   \n",
            "\n",
            "      talk_time  three_g  touch_screen  wifi  price_range  \n",
            "0            19        0             0     1            1  \n",
            "1             7        1             1     0            2  \n",
            "2             9        1             1     0            2  \n",
            "3            11        1             0     0            2  \n",
            "4            15        1             1     0            1  \n",
            "...         ...      ...           ...   ...          ...  \n",
            "1995         19        1             1     0            0  \n",
            "1996         16        1             1     1            2  \n",
            "1997          5        1             1     0            3  \n",
            "1998         19        1             1     1            0  \n",
            "1999          2        1             1     1            3  \n",
            "\n",
            "[2000 rows x 21 columns]\n"
          ]
        }
      ]
    },
    {
      "cell_type": "code",
      "source": [
        "y=df['price_range']\n",
        "print(y)"
      ],
      "metadata": {
        "colab": {
          "base_uri": "https://localhost:8080/"
        },
        "id": "d57LKEYSZ9m9",
        "outputId": "424c2d80-f342-4adb-8652-0e41e24c1bb4"
      },
      "execution_count": null,
      "outputs": [
        {
          "output_type": "stream",
          "name": "stdout",
          "text": [
            "0       1\n",
            "1       2\n",
            "2       2\n",
            "3       2\n",
            "4       1\n",
            "       ..\n",
            "1995    0\n",
            "1996    2\n",
            "1997    3\n",
            "1998    0\n",
            "1999    3\n",
            "Name: price_range, Length: 2000, dtype: int64\n"
          ]
        }
      ]
    },
    {
      "cell_type": "code",
      "source": [
        "x=df.drop('price_range',axis=1)\n",
        "print(x)"
      ],
      "metadata": {
        "colab": {
          "base_uri": "https://localhost:8080/"
        },
        "id": "PZrk85Jpef9S",
        "outputId": "6e229cab-0a60-408a-dfa9-9fab5758395c"
      },
      "execution_count": null,
      "outputs": [
        {
          "output_type": "stream",
          "name": "stdout",
          "text": [
            "      battery_power  blue  clock_speed  dual_sim  fc  four_g  int_memory  \\\n",
            "0               842     0          2.2         0   1       0           7   \n",
            "1              1021     1          0.5         1   0       1          53   \n",
            "2               563     1          0.5         1   2       1          41   \n",
            "3               615     1          2.5         0   0       0          10   \n",
            "4              1821     1          1.2         0  13       1          44   \n",
            "...             ...   ...          ...       ...  ..     ...         ...   \n",
            "1995            794     1          0.5         1   0       1           2   \n",
            "1996           1965     1          2.6         1   0       0          39   \n",
            "1997           1911     0          0.9         1   1       1          36   \n",
            "1998           1512     0          0.9         0   4       1          46   \n",
            "1999            510     1          2.0         1   5       1          45   \n",
            "\n",
            "      m_dep  mobile_wt  n_cores  pc  px_height  px_width   ram  sc_h  sc_w  \\\n",
            "0       0.6        188        2   2         20       756  2549     9     7   \n",
            "1       0.7        136        3   6        905      1988  2631    17     3   \n",
            "2       0.9        145        5   6       1263      1716  2603    11     2   \n",
            "3       0.8        131        6   9       1216      1786  2769    16     8   \n",
            "4       0.6        141        2  14       1208      1212  1411     8     2   \n",
            "...     ...        ...      ...  ..        ...       ...   ...   ...   ...   \n",
            "1995    0.8        106        6  14       1222      1890   668    13     4   \n",
            "1996    0.2        187        4   3        915      1965  2032    11    10   \n",
            "1997    0.7        108        8   3        868      1632  3057     9     1   \n",
            "1998    0.1        145        5   5        336       670   869    18    10   \n",
            "1999    0.9        168        6  16        483       754  3919    19     4   \n",
            "\n",
            "      talk_time  three_g  touch_screen  wifi  \n",
            "0            19        0             0     1  \n",
            "1             7        1             1     0  \n",
            "2             9        1             1     0  \n",
            "3            11        1             0     0  \n",
            "4            15        1             1     0  \n",
            "...         ...      ...           ...   ...  \n",
            "1995         19        1             1     0  \n",
            "1996         16        1             1     1  \n",
            "1997          5        1             1     0  \n",
            "1998         19        1             1     1  \n",
            "1999          2        1             1     1  \n",
            "\n",
            "[2000 rows x 20 columns]\n"
          ]
        }
      ]
    },
    {
      "cell_type": "code",
      "source": [
        "from sklearn.model_selection import train_test_split\n",
        "x_train,x_test,y_train,y_test=train_test_split(x,y,test_size=0.2,random_state=30)\n",
        "print(x_train)\n",
        "print(x_test)\n",
        "print(y_train)\n",
        "print(y_test)\n"
      ],
      "metadata": {
        "colab": {
          "base_uri": "https://localhost:8080/"
        },
        "id": "S1Mt13r0cH4C",
        "outputId": "da6b599e-59c2-4be6-f035-67bc4e100d27"
      },
      "execution_count": null,
      "outputs": [
        {
          "output_type": "stream",
          "name": "stdout",
          "text": [
            "      battery_power  blue  clock_speed  dual_sim  fc  four_g  int_memory  \\\n",
            "1572            895     0          0.5         1   6       0          16   \n",
            "1442            973     0          0.5         1   5       0          53   \n",
            "1516           1081     1          1.9         1  13       1          42   \n",
            "259            1559     1          1.6         1   6       1           6   \n",
            "945             832     0          1.1         0   0       1          46   \n",
            "...             ...   ...          ...       ...  ..     ...         ...   \n",
            "500            1278     1          0.5         1   1       0          54   \n",
            "1837            983     0          0.6         1   0       1          45   \n",
            "941             743     0          0.5         1   0       1          33   \n",
            "421            1178     0          2.2         1   6       0          57   \n",
            "1829           1065     0          1.7         1   4       1          48   \n",
            "\n",
            "      m_dep  mobile_wt  n_cores  pc  px_height  px_width   ram  sc_h  sc_w  \\\n",
            "1572    0.3        164        8  14        126      1575  3122     7     0   \n",
            "1442    0.5        196        5   7        105       588  1861    13    10   \n",
            "1516    0.1        101        7  17         83       816  2456     7     4   \n",
            "259     0.5        162        6  17        179      1559  3352     9     1   \n",
            "945     0.3         93        6   0        820      1366  3317     8     0   \n",
            "...     ...        ...      ...  ..        ...       ...   ...   ...   ...   \n",
            "500     0.1        104        8  16        581       750  1155     7     1   \n",
            "1837    0.1        130        4  11        948      1205  2052     5     3   \n",
            "941     0.3         95        2   1       1587      1659   316    19    10   \n",
            "421     0.3         84        3  17         96      1352  2492    16    14   \n",
            "1829    0.3        162        6   8       1188      1948   265     8     0   \n",
            "\n",
            "      talk_time  three_g  touch_screen  wifi  \n",
            "1572          4        0             0     1  \n",
            "1442         16        0             1     0  \n",
            "1516          7        1             0     0  \n",
            "259           3        1             1     1  \n",
            "945          19        1             1     0  \n",
            "...         ...      ...           ...   ...  \n",
            "500          20        0             0     1  \n",
            "1837          6        1             0     1  \n",
            "941           4        1             0     0  \n",
            "421          10        1             1     0  \n",
            "1829         12        1             0     0  \n",
            "\n",
            "[1600 rows x 20 columns]\n",
            "      battery_power  blue  clock_speed  dual_sim  fc  four_g  int_memory  \\\n",
            "1856           1786     0          2.6         0   6       0          14   \n",
            "364             916     1          2.6         0   0       0          36   \n",
            "1948            748     0          1.4         0   0       0          25   \n",
            "1458           1368     0          0.5         0  10       1          42   \n",
            "609            1212     0          2.6         0   1       1          46   \n",
            "...             ...   ...          ...       ...  ..     ...         ...   \n",
            "1163           1930     1          2.0         0  11       0          16   \n",
            "572            1701     1          0.5         0  13       1          46   \n",
            "1105           1510     1          2.5         1  11       0          47   \n",
            "1903           1361     1          1.4         0   1       0          47   \n",
            "481            1697     1          0.7         0   1       1          34   \n",
            "\n",
            "      m_dep  mobile_wt  n_cores  pc  px_height  px_width   ram  sc_h  sc_w  \\\n",
            "1856    1.0        115        4  15        616       912  3038    18     0   \n",
            "364     0.3        195        4  12        188       992  1470    13     0   \n",
            "1948    1.0        110        7  14         88       709  1974    17     5   \n",
            "1458    0.2         91        1  20        907       925  1590    12     0   \n",
            "609     0.3        102        4   8        611      1715  2249    14     3   \n",
            "...     ...        ...      ...  ..        ...       ...   ...   ...   ...   \n",
            "1163    0.8        186        8  12       1901      1920  1783    17     3   \n",
            "572     0.9        115        2  15        364       828  3717    11     0   \n",
            "1105    0.7        138        2  13        118      1170   887    18     6   \n",
            "1903    1.0        169        5   2        881      1382  2495     8     7   \n",
            "481     0.1         95        1   3        236      1264  3701    15     9   \n",
            "\n",
            "      talk_time  three_g  touch_screen  wifi  \n",
            "1856         14        1             0     0  \n",
            "364          14        0             1     0  \n",
            "1948         13        0             1     1  \n",
            "1458         14        1             0     0  \n",
            "609           4        1             1     1  \n",
            "...         ...      ...           ...   ...  \n",
            "1163         13        0             0     1  \n",
            "572          10        1             1     0  \n",
            "1105          5        0             0     0  \n",
            "1903         16        0             0     1  \n",
            "481           8        1             1     0  \n",
            "\n",
            "[400 rows x 20 columns]\n",
            "1572    2\n",
            "1442    1\n",
            "1516    1\n",
            "259     3\n",
            "945     3\n",
            "       ..\n",
            "500     0\n",
            "1837    1\n",
            "941     0\n",
            "421     2\n",
            "1829    0\n",
            "Name: price_range, Length: 1600, dtype: int64\n",
            "1856    3\n",
            "364     0\n",
            "1948    1\n",
            "1458    1\n",
            "609     2\n",
            "       ..\n",
            "1163    2\n",
            "572     3\n",
            "1105    0\n",
            "1903    2\n",
            "481     3\n",
            "Name: price_range, Length: 400, dtype: int64\n"
          ]
        }
      ]
    },
    {
      "cell_type": "code",
      "source": [
        "import pandas as pd\n",
        "file_path = \"/content/california_housing_train.csv\"\n",
        "df = pd.read_csv('/content/sample_data/california_housing_train.csv')\n",
        "\n",
        "print(df)\n"
      ],
      "metadata": {
        "colab": {
          "base_uri": "https://localhost:8080/"
        },
        "id": "2fDphDnjhVBn",
        "outputId": "ec671371-c407-4240-c2d4-f367971ea9ce"
      },
      "execution_count": null,
      "outputs": [
        {
          "output_type": "stream",
          "name": "stdout",
          "text": [
            "       longitude  latitude  housing_median_age  total_rooms  total_bedrooms  \\\n",
            "0        -114.31     34.19                15.0       5612.0          1283.0   \n",
            "1        -114.47     34.40                19.0       7650.0          1901.0   \n",
            "2        -114.56     33.69                17.0        720.0           174.0   \n",
            "3        -114.57     33.64                14.0       1501.0           337.0   \n",
            "4        -114.57     33.57                20.0       1454.0           326.0   \n",
            "...          ...       ...                 ...          ...             ...   \n",
            "16995    -124.26     40.58                52.0       2217.0           394.0   \n",
            "16996    -124.27     40.69                36.0       2349.0           528.0   \n",
            "16997    -124.30     41.84                17.0       2677.0           531.0   \n",
            "16998    -124.30     41.80                19.0       2672.0           552.0   \n",
            "16999    -124.35     40.54                52.0       1820.0           300.0   \n",
            "\n",
            "       population  households  median_income  median_house_value  \n",
            "0          1015.0       472.0         1.4936             66900.0  \n",
            "1          1129.0       463.0         1.8200             80100.0  \n",
            "2           333.0       117.0         1.6509             85700.0  \n",
            "3           515.0       226.0         3.1917             73400.0  \n",
            "4           624.0       262.0         1.9250             65500.0  \n",
            "...           ...         ...            ...                 ...  \n",
            "16995       907.0       369.0         2.3571            111400.0  \n",
            "16996      1194.0       465.0         2.5179             79000.0  \n",
            "16997      1244.0       456.0         3.0313            103600.0  \n",
            "16998      1298.0       478.0         1.9797             85800.0  \n",
            "16999       806.0       270.0         3.0147             94600.0  \n",
            "\n",
            "[17000 rows x 9 columns]\n"
          ]
        }
      ]
    },
    {
      "cell_type": "code",
      "source": [
        "y=df['median_house_value']\n",
        "print(y)"
      ],
      "metadata": {
        "colab": {
          "base_uri": "https://localhost:8080/"
        },
        "id": "AughqrRum47H",
        "outputId": "95be5917-fa55-4590-f9e1-db653ed89f9b"
      },
      "execution_count": null,
      "outputs": [
        {
          "output_type": "stream",
          "name": "stdout",
          "text": [
            "0         66900.0\n",
            "1         80100.0\n",
            "2         85700.0\n",
            "3         73400.0\n",
            "4         65500.0\n",
            "           ...   \n",
            "16995    111400.0\n",
            "16996     79000.0\n",
            "16997    103600.0\n",
            "16998     85800.0\n",
            "16999     94600.0\n",
            "Name: median_house_value, Length: 17000, dtype: float64\n"
          ]
        }
      ]
    },
    {
      "cell_type": "code",
      "source": [
        "x=df.drop('median_house_value',axis=1)\n",
        "print(x)"
      ],
      "metadata": {
        "colab": {
          "base_uri": "https://localhost:8080/"
        },
        "id": "8I7X76IUndbJ",
        "outputId": "1f774ff1-1205-4374-9506-8d32728153fe"
      },
      "execution_count": null,
      "outputs": [
        {
          "output_type": "stream",
          "name": "stdout",
          "text": [
            "       longitude  latitude  housing_median_age  total_rooms  total_bedrooms  \\\n",
            "0        -114.31     34.19                15.0       5612.0          1283.0   \n",
            "1        -114.47     34.40                19.0       7650.0          1901.0   \n",
            "2        -114.56     33.69                17.0        720.0           174.0   \n",
            "3        -114.57     33.64                14.0       1501.0           337.0   \n",
            "4        -114.57     33.57                20.0       1454.0           326.0   \n",
            "...          ...       ...                 ...          ...             ...   \n",
            "16995    -124.26     40.58                52.0       2217.0           394.0   \n",
            "16996    -124.27     40.69                36.0       2349.0           528.0   \n",
            "16997    -124.30     41.84                17.0       2677.0           531.0   \n",
            "16998    -124.30     41.80                19.0       2672.0           552.0   \n",
            "16999    -124.35     40.54                52.0       1820.0           300.0   \n",
            "\n",
            "       population  households  median_income  \n",
            "0          1015.0       472.0         1.4936  \n",
            "1          1129.0       463.0         1.8200  \n",
            "2           333.0       117.0         1.6509  \n",
            "3           515.0       226.0         3.1917  \n",
            "4           624.0       262.0         1.9250  \n",
            "...           ...         ...            ...  \n",
            "16995       907.0       369.0         2.3571  \n",
            "16996      1194.0       465.0         2.5179  \n",
            "16997      1244.0       456.0         3.0313  \n",
            "16998      1298.0       478.0         1.9797  \n",
            "16999       806.0       270.0         3.0147  \n",
            "\n",
            "[17000 rows x 8 columns]\n"
          ]
        }
      ]
    },
    {
      "cell_type": "code",
      "source": [
        "from sklearn.model_selection import train_test_split\n",
        "x_train,x_test,y_train,y_test=train_test_split(x,y,test_size=0.2,random_state=30)\n",
        "print(x_train)\n",
        "print(x_test)\n",
        "print(y_train)\n",
        "print(y_test)"
      ],
      "metadata": {
        "colab": {
          "base_uri": "https://localhost:8080/"
        },
        "id": "KTiWfxnLR1Yy",
        "outputId": "e72665e7-7340-423b-8cd3-9c65419363c5"
      },
      "execution_count": null,
      "outputs": [
        {
          "output_type": "stream",
          "name": "stdout",
          "text": [
            "       longitude  latitude  housing_median_age  total_rooms  total_bedrooms  \\\n",
            "7303     -118.34     33.99                48.0       2009.0           335.0   \n",
            "12831    -121.81     37.23                19.0       2635.0           427.0   \n",
            "13976    -122.04     37.67                29.0       1694.0           251.0   \n",
            "3268     -117.86     33.73                30.0       2651.0           572.0   \n",
            "7206     -118.33     34.00                47.0        825.0           187.0   \n",
            "...          ...       ...                 ...          ...             ...   \n",
            "500      -116.99     32.83                20.0       6696.0          1326.0   \n",
            "12077    -121.43     39.18                36.0       1124.0           184.0   \n",
            "15277    -122.28     37.88                52.0       1172.0           215.0   \n",
            "4517     -118.04     33.76                16.0       2070.0           263.0   \n",
            "5925     -118.21     34.10                47.0       5077.0          1271.0   \n",
            "\n",
            "       population  households  median_income  \n",
            "7303        919.0       297.0         4.8125  \n",
            "12831      1497.0       410.0         6.3178  \n",
            "13976       690.0       242.0         6.0501  \n",
            "3268       3249.0       552.0         3.7202  \n",
            "7206        416.0       173.0         2.3333  \n",
            "...           ...         ...            ...  \n",
            "500        3687.0      1291.0         3.1979  \n",
            "12077       504.0       171.0         2.1667  \n",
            "15277       489.0       218.0         3.9167  \n",
            "4517        878.0       297.0         7.0879  \n",
            "5925       3348.0      1106.0         3.0377  \n",
            "\n",
            "[13600 rows x 8 columns]\n",
            "       longitude  latitude  housing_median_age  total_rooms  total_bedrooms  \\\n",
            "10914    -120.85     37.51                 5.0       2899.0           745.0   \n",
            "6241     -118.25     34.23                37.0       1954.0           368.0   \n",
            "5904     -118.20     33.79                47.0       2549.0           626.0   \n",
            "9578     -119.35     36.52                39.0       3027.0           608.0   \n",
            "9444     -119.25     34.30                34.0       1189.0           220.0   \n",
            "...          ...       ...                 ...          ...             ...   \n",
            "12228    -121.47     38.55                52.0       1384.0           295.0   \n",
            "6639     -118.28     33.91                41.0        620.0           133.0   \n",
            "7850     -118.40     34.70                10.0       4122.0           814.0   \n",
            "4886     -118.10     34.01                42.0       1436.0           298.0   \n",
            "3618     -117.91     33.61                27.0       1797.0           343.0   \n",
            "\n",
            "       population  households  median_income  \n",
            "10914      1593.0       633.0         2.2292  \n",
            "6241        967.0       370.0         5.0862  \n",
            "5904       1388.0       606.0         3.0135  \n",
            "9578       2199.0       592.0         2.6445  \n",
            "9444        445.0       203.0         4.8824  \n",
            "...           ...         ...            ...  \n",
            "12228       561.0       244.0         2.0242  \n",
            "6639        642.0       162.0         2.6546  \n",
            "7850       2164.0       710.0         4.2941  \n",
            "4886       1005.0       298.0         3.4297  \n",
            "3618        435.0       203.0         5.9196  \n",
            "\n",
            "[3400 rows x 8 columns]\n",
            "7303     170500.0\n",
            "12831    248000.0\n",
            "13976    254200.0\n",
            "3268     182100.0\n",
            "7206     133300.0\n",
            "           ...   \n",
            "500      154600.0\n",
            "12077     93800.0\n",
            "15277    235600.0\n",
            "4517     338800.0\n",
            "5925     186800.0\n",
            "Name: median_house_value, Length: 13600, dtype: float64\n",
            "10914    127500.0\n",
            "6241     261300.0\n",
            "5904     192700.0\n",
            "9578      62000.0\n",
            "9444     396400.0\n",
            "           ...   \n",
            "12228     94600.0\n",
            "6639     159600.0\n",
            "7850     151600.0\n",
            "4886     195800.0\n",
            "3618     500001.0\n",
            "Name: median_house_value, Length: 3400, dtype: float64\n"
          ]
        }
      ]
    },
    {
      "cell_type": "code",
      "source": [],
      "metadata": {
        "id": "P-49s-mfR5je"
      },
      "execution_count": null,
      "outputs": []
    }
  ]
}